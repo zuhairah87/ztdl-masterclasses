{
  "nbformat": 4,
  "nbformat_minor": 0,
  "metadata": {
    "colab": {
      "name": "Data_Manipulation_with_Pandas.ipynb",
      "provenance": [],
      "include_colab_link": true
    },
    "kernelspec": {
      "display_name": "Python 3",
      "language": "python",
      "name": "python3"
    },
    "language_info": {
      "codemirror_mode": {
        "name": "ipython",
        "version": 3
      },
      "file_extension": ".py",
      "mimetype": "text/x-python",
      "name": "python",
      "nbconvert_exporter": "python",
      "pygments_lexer": "ipython3",
      "version": "3.7.7"
    }
  },
  "cells": [
    {
      "cell_type": "markdown",
      "metadata": {
        "id": "view-in-github",
        "colab_type": "text"
      },
      "source": [
        "<a href=\"https://colab.research.google.com/github/zuhairah87/ztdl-masterclasses/blob/master/notebooks/Data_Manipulation_with_Pandas.ipynb\" target=\"_parent\"><img src=\"https://colab.research.google.com/assets/colab-badge.svg\" alt=\"Open In Colab\"/></a>"
      ]
    },
    {
      "cell_type": "markdown",
      "metadata": {
        "id": "2bwH96hViwS7"
      },
      "source": [
        "## Learn with us: www.zerotodeeplearning.com\n",
        "\n",
        "Copyright © 2021: Zero to Deep Learning ® Catalit LLC."
      ]
    },
    {
      "cell_type": "code",
      "metadata": {
        "id": "bFidPKNdkVPg"
      },
      "source": [
        "# Licensed under the Apache License, Version 2.0 (the \"License\");\n",
        "# you may not use this file except in compliance with the License.\n",
        "# You may obtain a copy of the License at\n",
        "#\n",
        "# https://www.apache.org/licenses/LICENSE-2.0\n",
        "#\n",
        "# Unless required by applicable law or agreed to in writing, software\n",
        "# distributed under the License is distributed on an \"AS IS\" BASIS,\n",
        "# WITHOUT WARRANTIES OR CONDITIONS OF ANY KIND, either express or implied.\n",
        "# See the License for the specific language governing permissions and\n",
        "# limitations under the License."
      ],
      "execution_count": null,
      "outputs": []
    },
    {
      "cell_type": "markdown",
      "metadata": {
        "id": "DvoukA2tkGV4"
      },
      "source": [
        "# Data Manipulation with Pandas"
      ]
    },
    {
      "cell_type": "markdown",
      "metadata": {
        "id": "a2c3dtIpqJQO"
      },
      "source": [
        "Pandas is an open source library providing high-performance, easy-to-use data structures and data analysis tools for the Python programming language.\n",
        "\n",
        "You can find it here: http://pandas.pydata.org/\n",
        "\n",
        "And the documentation can be found here: https://pandas.pydata.org/docs/getting_started/index.html\n",
        "\n",
        "In this notebook we review some of its functionality."
      ]
    },
    {
      "cell_type": "code",
      "metadata": {
        "id": "oc7GxG8yKVJL"
      },
      "source": [
        "import pandas as pd\n",
        "import matplotlib.pyplot as plt\n",
        "import matplotlib.dates as mdates\n",
        "import seaborn as sns"
      ],
      "execution_count": null,
      "outputs": []
    },
    {
      "cell_type": "code",
      "metadata": {
        "id": "oEhGeaf9qJQR"
      },
      "source": [
        "pd.__version__"
      ],
      "execution_count": null,
      "outputs": []
    },
    {
      "cell_type": "code",
      "metadata": {
        "id": "s0dZzGI9qJQT"
      },
      "source": [
        "sns.__version__"
      ],
      "execution_count": null,
      "outputs": []
    },
    {
      "cell_type": "markdown",
      "metadata": {
        "id": "BTun_fKVKQWD"
      },
      "source": [
        "### Reading data from multiple sources"
      ]
    },
    {
      "cell_type": "code",
      "metadata": {
        "id": "8qGLbftIqJQW"
      },
      "source": [
        "url = \"https://raw.githubusercontent.com/zerotodeeplearning/ztdl-masterclasses/master/data/\""
      ],
      "execution_count": null,
      "outputs": []
    },
    {
      "cell_type": "code",
      "metadata": {
        "id": "PgND6MsjshTC"
      },
      "source": [
        "#csv\n",
        "df = pd.read_csv(url + \"time_series_covid19_confirmed_global.csv\")"
      ],
      "execution_count": null,
      "outputs": []
    },
    {
      "cell_type": "code",
      "metadata": {
        "id": "pM4zCZGDsr1E"
      },
      "source": [
        "df.head()"
      ],
      "execution_count": null,
      "outputs": []
    },
    {
      "cell_type": "code",
      "metadata": {
        "id": "r7hot1pxsslm"
      },
      "source": [
        "# json\n",
        "df = pd.read_json(url + \"gdp.json\")"
      ],
      "execution_count": null,
      "outputs": []
    },
    {
      "cell_type": "code",
      "metadata": {
        "id": "QUx1qylXLAIa"
      },
      "source": [
        "df.head()"
      ],
      "execution_count": null,
      "outputs": []
    },
    {
      "cell_type": "code",
      "metadata": {
        "id": "5bZPqdA-ME8f"
      },
      "source": [
        "#html\n",
        "dfl = pd.read_html(url + \"FDIC_%20Failed%20Bank%20List.htm\")\n",
        "\n",
        "print(type(dfl))\n",
        "print(len(dfl))"
      ],
      "execution_count": null,
      "outputs": []
    },
    {
      "cell_type": "code",
      "metadata": {
        "id": "KF3cFGEnMTH8"
      },
      "source": [
        "dfl[0].head()"
      ],
      "execution_count": null,
      "outputs": []
    },
    {
      "cell_type": "markdown",
      "metadata": {
        "id": "kEGpa0b0qJQp"
      },
      "source": [
        "### Quick exploration\n",
        "\n",
        "Commands to quickly inspect the dataset"
      ]
    },
    {
      "cell_type": "code",
      "metadata": {
        "id": "wZF2KwA9qJQp"
      },
      "source": [
        "df = pd.read_csv(url + \"titanic-train.csv\")"
      ],
      "execution_count": null,
      "outputs": []
    },
    {
      "cell_type": "code",
      "metadata": {
        "id": "mq1vBKwuqJQr"
      },
      "source": [
        "df.head()"
      ],
      "execution_count": null,
      "outputs": []
    },
    {
      "cell_type": "code",
      "metadata": {
        "id": "zP6NgCkCqJQt"
      },
      "source": [
        "df.info()"
      ],
      "execution_count": null,
      "outputs": []
    },
    {
      "cell_type": "code",
      "metadata": {
        "id": "Ido-qIQVqJQv"
      },
      "source": [
        "df.describe()"
      ],
      "execution_count": null,
      "outputs": []
    },
    {
      "cell_type": "markdown",
      "metadata": {
        "id": "0Yj83qd4qJQx"
      },
      "source": [
        "### Plotting"
      ]
    },
    {
      "cell_type": "code",
      "metadata": {
        "id": "S9A6IPlyqJQy"
      },
      "source": [
        "survived_counts = df['Survived'].value_counts()\n",
        "survived_counts"
      ],
      "execution_count": null,
      "outputs": []
    },
    {
      "cell_type": "code",
      "metadata": {
        "id": "CMnPoowaqJQ0"
      },
      "source": [
        "survived_counts.plot.bar(title='Dead / Survived');"
      ],
      "execution_count": null,
      "outputs": []
    },
    {
      "cell_type": "code",
      "metadata": {
        "id": "lOZXvtPiqJQ2"
      },
      "source": [
        "survived_counts.plot.pie(\n",
        "    figsize=(5, 5),\n",
        "    explode=[0, 0.15],\n",
        "    labels=['Dead', 'Survived'],\n",
        "    autopct='%1.1f%%',\n",
        "    shadow=True,\n",
        "    startangle=90,\n",
        "    fontsize=16);"
      ],
      "execution_count": null,
      "outputs": []
    },
    {
      "cell_type": "code",
      "metadata": {
        "id": "LtFuP3icqJQ4"
      },
      "source": [
        "df['Age']"
      ],
      "execution_count": null,
      "outputs": []
    },
    {
      "cell_type": "code",
      "metadata": {
        "id": "gRp96bgiqJQ6"
      },
      "source": [
        "df['Age'].plot.hist(\n",
        "    bins=16,\n",
        "    range=(0, 80),\n",
        "    title='Passenger age distribution')\n",
        "plt.xlabel(\"Age\");"
      ],
      "execution_count": null,
      "outputs": []
    },
    {
      "cell_type": "code",
      "metadata": {
        "id": "VVzqVeOoqJQ7"
      },
      "source": [
        "df['Age'].plot.hist(\n",
        "    bins=80,\n",
        "    range=(0, 80),\n",
        "    title='Passenger cumulative age distibution',\n",
        "    cumulative=True,\n",
        "    density=True)\n",
        "plt.xlabel(\"Age\")\n",
        "plt.axhline(0.25, color='red')\n",
        "plt.axhline(0.5, color='red')\n",
        "plt.axhline(0.75, color='red');"
      ],
      "execution_count": null,
      "outputs": []
    },
    {
      "cell_type": "markdown",
      "metadata": {
        "id": "6MqP-UvpqJQ9"
      },
      "source": [
        "### Fancy plotting with seaborn"
      ]
    },
    {
      "cell_type": "code",
      "metadata": {
        "id": "ZdopJhU-qJQ9"
      },
      "source": [
        "sns.pairplot(df[['Age', 'Pclass', 'Fare', 'SibSp', 'Survived']],\n",
        "             hue='Survived');"
      ],
      "execution_count": null,
      "outputs": []
    },
    {
      "cell_type": "code",
      "metadata": {
        "id": "yTLPL5EtqJQ_"
      },
      "source": [
        "sns.jointplot(x='Age', y='Fare', data=df)"
      ],
      "execution_count": null,
      "outputs": []
    },
    {
      "cell_type": "code",
      "metadata": {
        "id": "zt6VlWTMqJRB"
      },
      "source": [
        "corr = df.corr()\n",
        "sns.heatmap(corr);"
      ],
      "execution_count": null,
      "outputs": []
    },
    {
      "cell_type": "markdown",
      "metadata": {
        "id": "P-p-rTdXqJRD"
      },
      "source": [
        "### Indexing\n",
        "\n",
        "Retrieving elements by row, by column or both. Try to understand each of the following statements"
      ]
    },
    {
      "cell_type": "code",
      "metadata": {
        "id": "SZA0jWpAqJRD"
      },
      "source": [
        "df['Ticket']"
      ],
      "execution_count": null,
      "outputs": []
    },
    {
      "cell_type": "code",
      "metadata": {
        "id": "Z8Ioc4s6qJRF"
      },
      "source": [
        "df[['Fare', 'Ticket']]"
      ],
      "execution_count": null,
      "outputs": []
    },
    {
      "cell_type": "code",
      "metadata": {
        "id": "mf6rCgfGqJRH"
      },
      "source": [
        "df.iloc[3]"
      ],
      "execution_count": null,
      "outputs": []
    },
    {
      "cell_type": "code",
      "metadata": {
        "id": "a0rMAbcNqJRI"
      },
      "source": [
        "df.iloc[3, 4]"
      ],
      "execution_count": null,
      "outputs": []
    },
    {
      "cell_type": "code",
      "metadata": {
        "id": "pbdwVHvYqJRK"
      },
      "source": [
        "df.loc[0:4,'Ticket']"
      ],
      "execution_count": null,
      "outputs": []
    },
    {
      "cell_type": "code",
      "metadata": {
        "id": "EuGoeOJpqJRN"
      },
      "source": [
        "df.loc[0:4, ['Fare', 'Ticket']]"
      ],
      "execution_count": null,
      "outputs": []
    },
    {
      "cell_type": "markdown",
      "metadata": {
        "id": "ii8W8cl2qJRQ"
      },
      "source": [
        "### Selections\n",
        "\n",
        "Retrieving part of the dataframe based on a condition. Try to understand each of the following statements."
      ]
    },
    {
      "cell_type": "code",
      "metadata": {
        "id": "RLQ3S5xZqJRQ"
      },
      "source": [
        "df[df.Age > 70]"
      ],
      "execution_count": null,
      "outputs": []
    },
    {
      "cell_type": "code",
      "metadata": {
        "id": "tgjoz4usqJRS"
      },
      "source": [
        "df[(df['Age'] == 11) & (df['SibSp'] == 5)]"
      ],
      "execution_count": null,
      "outputs": []
    },
    {
      "cell_type": "code",
      "metadata": {
        "id": "1DfLF6-YqJRT"
      },
      "source": [
        "df[(df.Age == 11) | (df.SibSp == 5)]"
      ],
      "execution_count": null,
      "outputs": []
    },
    {
      "cell_type": "code",
      "metadata": {
        "id": "8mRz-YggqJRV"
      },
      "source": [
        "df.query('(Age == 11) & (SibSp == 5)')"
      ],
      "execution_count": null,
      "outputs": []
    },
    {
      "cell_type": "code",
      "metadata": {
        "id": "Lol7UCoBqJRX"
      },
      "source": [
        "df.sort_values('Age', ascending = False).head()"
      ],
      "execution_count": null,
      "outputs": []
    },
    {
      "cell_type": "markdown",
      "metadata": {
        "id": "S3wdVTv2qJRY"
      },
      "source": [
        "### Distinct elements"
      ]
    },
    {
      "cell_type": "code",
      "metadata": {
        "id": "wnA1zSgiqJRZ"
      },
      "source": [
        "df['Embarked'].unique()"
      ],
      "execution_count": null,
      "outputs": []
    },
    {
      "cell_type": "markdown",
      "metadata": {
        "id": "9oT4fBe0qJRb"
      },
      "source": [
        "### Group by\n",
        "\n",
        "Pandas supports many SQL-like operations like group by, order by and join. In pandas they are called:\n",
        "- groupby\n",
        "- sort_values\n",
        "- merge\n",
        "\n",
        "Try to make sense of each of the following expressions:"
      ]
    },
    {
      "cell_type": "code",
      "metadata": {
        "id": "sRXQst5kqJRb"
      },
      "source": [
        "# Find average age of passengers that survived vs. died\n",
        "df.groupby('Survived')['Age'].mean()"
      ],
      "execution_count": null,
      "outputs": []
    },
    {
      "cell_type": "code",
      "metadata": {
        "id": "ks6GFg-hqJRd"
      },
      "source": [
        "df.sort_values('Age', ascending = False).head()"
      ],
      "execution_count": null,
      "outputs": []
    },
    {
      "cell_type": "markdown",
      "metadata": {
        "id": "gaU7w-9ZqJRg"
      },
      "source": [
        "### Join (merge)"
      ]
    },
    {
      "cell_type": "code",
      "metadata": {
        "id": "hoZG7hniqJRg"
      },
      "source": [
        "df1 = df[['PassengerId', 'Survived']]\n",
        "df2 = df[['PassengerId', 'Age']]\n",
        "\n",
        "pd.merge(df1, df2, on='PassengerId').head()"
      ],
      "execution_count": null,
      "outputs": []
    },
    {
      "cell_type": "markdown",
      "metadata": {
        "id": "bNC_ZcG8qJRh"
      },
      "source": [
        "### Pivot Tables\n",
        "\n",
        "Pandas also supports Excel-like functionality like pivot tables."
      ]
    },
    {
      "cell_type": "code",
      "metadata": {
        "id": "MRb0CyoqqJRi"
      },
      "source": [
        "df.pivot_table(index='Pclass', columns='Survived', values='PassengerId', aggfunc='count')"
      ],
      "execution_count": null,
      "outputs": []
    },
    {
      "cell_type": "code",
      "metadata": {
        "id": "8edst5deqJRj"
      },
      "source": [
        "df['Pclass'].value_counts()"
      ],
      "execution_count": null,
      "outputs": []
    },
    {
      "cell_type": "markdown",
      "metadata": {
        "id": "RqyflXWPqJRl"
      },
      "source": [
        "### Exercise 1:\n",
        "\n",
        "Try doing a few of these:\n",
        "\n",
        "- select passengers that survived\n",
        "- select passengers that embarked in port S\n",
        "- select male passengers\n",
        "- select passengers who paid less than 40.000 and were in third class\n",
        "- locate the name of passegner Id 674\n",
        "- calculate the average age of passengers using the function mean()\n",
        "- count the number of survived and the number of dead passengers\n",
        "- count the number of males and females\n",
        "- count the number of survived and dead per each gender\n",
        "- calculate average price paid by survived and dead people in each class"
      ]
    },
    {
      "cell_type": "code",
      "metadata": {
        "collapsed": true,
        "id": "8uosI0mU3TFJ"
      },
      "source": [
        ""
      ],
      "execution_count": null,
      "outputs": []
    },
    {
      "cell_type": "markdown",
      "metadata": {
        "id": "t11aXKg9qJR5"
      },
      "source": [
        "### Time series data"
      ]
    },
    {
      "cell_type": "code",
      "metadata": {
        "id": "3uyILVmnqJR5"
      },
      "source": [
        "df = pd.read_csv(url + \"time_series_covid19_confirmed_global.csv\")"
      ],
      "execution_count": null,
      "outputs": []
    },
    {
      "cell_type": "code",
      "metadata": {
        "id": "WEdrGMQVqJR7"
      },
      "source": [
        "df.head()"
      ],
      "execution_count": null,
      "outputs": []
    },
    {
      "cell_type": "markdown",
      "metadata": {
        "id": "D4jIe7TtqJR9"
      },
      "source": [
        "### Dropping columns"
      ]
    },
    {
      "cell_type": "code",
      "metadata": {
        "id": "3yRzKqDcqJR9"
      },
      "source": [
        "df1 = df.drop(['Lat', 'Long'], axis=1)\n",
        "df1"
      ],
      "execution_count": null,
      "outputs": []
    },
    {
      "cell_type": "markdown",
      "metadata": {
        "id": "WHTRRCE8qJSA"
      },
      "source": [
        "### Groupby + Aggregation"
      ]
    },
    {
      "cell_type": "code",
      "metadata": {
        "id": "6h2IwmFTqJSA"
      },
      "source": [
        "dfcountries = df1.groupby('Country/Region').sum().transpose()\n",
        "dfcountries"
      ],
      "execution_count": null,
      "outputs": []
    },
    {
      "cell_type": "markdown",
      "metadata": {
        "id": "23shWiZyqJSB"
      },
      "source": [
        "### Data Time index"
      ]
    },
    {
      "cell_type": "code",
      "metadata": {
        "id": "yJouYnndqJSC"
      },
      "source": [
        "dfcountries.index"
      ],
      "execution_count": null,
      "outputs": []
    },
    {
      "cell_type": "code",
      "metadata": {
        "id": "OXqX_7U-qJSE"
      },
      "source": [
        "dfcountries.index = pd.to_datetime(dfcountries.index)"
      ],
      "execution_count": null,
      "outputs": []
    },
    {
      "cell_type": "code",
      "metadata": {
        "id": "WG6yJPu0qJSF"
      },
      "source": [
        "dfcountries.index"
      ],
      "execution_count": null,
      "outputs": []
    },
    {
      "cell_type": "code",
      "metadata": {
        "id": "un5n4AX_qJSH"
      },
      "source": [
        "dfcountries.head()"
      ],
      "execution_count": null,
      "outputs": []
    },
    {
      "cell_type": "code",
      "metadata": {
        "id": "1VyxSJzkqJSI"
      },
      "source": [
        "series = dfcountries['Italy']\n",
        "series[series > 100].plot(style='o-', logy=True, title='Italy')\n",
        "plt.ylabel('Confirmed Cases');"
      ],
      "execution_count": null,
      "outputs": []
    },
    {
      "cell_type": "code",
      "metadata": {
        "id": "AEmAoHR4qJSJ"
      },
      "source": [
        "country = 'Italy'\n",
        "ts = dfcountries[country].diff()\n",
        "ts = ts[ts>0]\n",
        "\n",
        "\n",
        "fig, ax = plt.subplots(figsize=(10,6))\n",
        "ax.bar(ts.index, ts.values)\n",
        "ax.xaxis.set_major_locator(mdates.WeekdayLocator())\n",
        "ax.xaxis.set_major_formatter(mdates.DateFormatter('%b %d'))\n",
        "ax.set_title(f'{country}: New cases')\n",
        "ax.set_ylabel('Count')\n",
        "ax.set_xlabel('Date');"
      ],
      "execution_count": null,
      "outputs": []
    },
    {
      "cell_type": "markdown",
      "metadata": {
        "id": "U67wuZ__qJSK"
      },
      "source": [
        "### Exercise 2:\n",
        "\n",
        "- find the top 20 countries by number of cases. You will need to use selections and these methods:\n",
        "    - `.tail()`\n",
        "    - `.transpose`\n",
        "    - `.sort_values`\n",
        "\n",
        "    Your goal is to obtain a Pandas Series that looks like this:\n",
        "  ```\n",
        "  Country/Region\n",
        "  US                188172\n",
        "  Italy             105792\n",
        "  Spain              95923\n",
        "  China              82279\n",
        "  Germany            71808\n",
        "  France             52827\n",
        "  ...\n",
        "   ```\n",
        "- use a horizontal bar plot to plot them\n",
        "- bonus points if you add title and labels"
      ]
    },
    {
      "cell_type": "code",
      "metadata": {
        "collapsed": true,
        "id": "TDzMFCtz3TFM"
      },
      "source": [
        ""
      ],
      "execution_count": null,
      "outputs": []
    }
  ]
}